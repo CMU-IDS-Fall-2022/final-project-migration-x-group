{
 "cells": [
  {
   "cell_type": "code",
   "execution_count": 41,
   "metadata": {},
   "outputs": [],
   "source": [
    "import pandas as pd\n",
    "import numpy as np\n",
    "\n",
    "\n",
    "od_df = pd.read_csv(\"MigrationPatternsData/od.csv\")\n",
    "\n"
   ]
  },
  {
   "cell_type": "markdown",
   "metadata": {},
   "source": [
    "## Group od.cs by state"
   ]
  },
  {
   "cell_type": "code",
   "execution_count": 42,
   "metadata": {},
   "outputs": [],
   "source": [
    "df_grouped_multiple = od_df.groupby(['o_state_name','d_state_name']).agg({'n': ['sum']})\n",
    "df_grouped_multiple = df_grouped_multiple.reset_index()\n",
    "\n",
    "df_grouped_multiple.columns = ['o_state_name','d_state_name','n']\n",
    "df_d = df_grouped_multiple.groupby(['d_state_name']).agg({'n':'sum'})\n",
    "df_d = df_d.reset_index()\n",
    "df_d.columns = ['state','inbound_number']\n",
    "df_grouped_multiple.to_csv(\"state_migration.csv\")\n",
    "\n",
    "# create pivot table\n",
    "od_pivot = od_df.pivot_table(index=\"o_state_name\", columns=\"d_state_name\", values=\"n\", aggfunc=\"sum\")\n",
    "od_pivot.to_csv(\"state_migration_pivot.csv\")\n"
   ]
  },
  {
   "cell_type": "code",
   "execution_count": 43,
   "metadata": {},
   "outputs": [],
   "source": [
    "# create state summary table\n",
    "\n",
    "states = df_grouped_multiple['o_state_name'].unique() # list to store all state names\n",
    "\n",
    "df_summary = {'state':[],\n",
    "'inbound_migration':[],\n",
    "'outbound_migration':[],\n",
    "'within_state_migration':[]}\n",
    "\n",
    "df_summary = pd.DataFrame(df_summary)\n",
    "\n",
    "df_summary['state'] = states\n",
    "\n",
    "df_grouped_new = df_grouped_multiple\n",
    "# fill the column of \"within_state_migration\"\n",
    "for i in range(len(df_grouped_new)):\n",
    "    if df_grouped_new.loc[i]['o_state_name']==df_grouped_new.loc[i]['d_state_name']:\n",
    "        s = df_grouped_new.loc[i]['o_state_name']\n",
    "        df_summary.loc[df_summary['state']==s,['within_state_migration']] = df_grouped_new.loc[i]['n']\n",
    "        df_grouped_new.drop(i, axis='index', inplace=True) # drop the row of within_state_migration\n",
    "\n",
    "\n",
    "\n",
    "\n"
   ]
  },
  {
   "cell_type": "code",
   "execution_count": 44,
   "metadata": {},
   "outputs": [],
   "source": [
    "df_d = df_grouped_multiple.groupby(['d_state_name']).agg({'n':'sum'})\n",
    "df_d = df_d.reset_index()\n",
    "df_d.columns = ['state','inbound_number']\n",
    "\n",
    "# df_d['state'] == df_summary['state']\n",
    "if df_d['state'].equals(df_summary['state']):\n",
    "    df_summary['inbound_migration'] = df_d['inbound_number']\n",
    "\n",
    "df_o = df_grouped_multiple.groupby(['o_state_name']).agg({'n':'sum'})\n",
    "df_o = df_o.reset_index()\n",
    "df_o.columns = ['state','outbound_number']\n",
    "\n",
    "# df_d['state'] == df_summary['state']\n",
    "if df_o['state'].equals(df_summary['state']):\n",
    "    df_summary['outbound_migration'] = df_o['outbound_number']\n"
   ]
  },
  {
   "cell_type": "code",
   "execution_count": 46,
   "metadata": {},
   "outputs": [
    {
     "name": "stdout",
     "output_type": "stream",
     "text": [
      "<class 'pandas.core.frame.DataFrame'>\n",
      "RangeIndex: 51 entries, 0 to 50\n",
      "Data columns (total 4 columns):\n",
      " #   Column                  Non-Null Count  Dtype \n",
      "---  ------                  --------------  ----- \n",
      " 0   state                   51 non-null     object\n",
      " 1   inbound_migration       51 non-null     int64 \n",
      " 2   outbound_migration      51 non-null     int64 \n",
      " 3   within_state_migration  51 non-null     int64 \n",
      "dtypes: int64(3), object(1)\n",
      "memory usage: 1.7+ KB\n"
     ]
    }
   ],
   "source": [
    "#df_summary.info()\n",
    "df_summary['within_state_migration'] = df_summary['within_state_migration'].astype(int)\n",
    "df_summary.info()\n",
    "df_summary.to_csv(\"state_migration_summary.csv\")"
   ]
  },
  {
   "cell_type": "markdown",
   "metadata": {},
   "source": [
    "## Combine household_income data with migration data"
   ]
  },
  {
   "cell_type": "code",
   "execution_count": 47,
   "metadata": {},
   "outputs": [],
   "source": [
    "df_income = pd.read_csv(\"state_household_income.csv\")\n",
    "\n",
    "df_income = df_income.replace({'state_name': {'DC': 'District of Columbia'}})\n",
    "\n",
    "for i in range(len(df_income.index)):\n",
    "    df_income.iloc[i,1] = df_income.iloc[i,1].upper()\n",
    "\n",
    "df_income = df_income.sort_values(by='state_name')\n",
    "df_income = df_income.reset_index(drop=True)\n",
    "df_d = df_d.sort_values(by='state')\n",
    "\n",
    "df_income['inbound_migration'] = df_d['inbound_number']\n",
    "df_income =df_income.rename(columns={\"mean\": \"average_household_income_median\"})\n",
    "\n",
    "df_income.to_csv(\"state_income_for_viz.csv\")"
   ]
  },
  {
   "cell_type": "code",
   "execution_count": 48,
   "metadata": {},
   "outputs": [
    {
     "data": {
      "text/html": [
       "<div>\n",
       "<style scoped>\n",
       "    .dataframe tbody tr th:only-of-type {\n",
       "        vertical-align: middle;\n",
       "    }\n",
       "\n",
       "    .dataframe tbody tr th {\n",
       "        vertical-align: top;\n",
       "    }\n",
       "\n",
       "    .dataframe thead th {\n",
       "        text-align: right;\n",
       "    }\n",
       "</style>\n",
       "<table border=\"1\" class=\"dataframe\">\n",
       "  <thead>\n",
       "    <tr style=\"text-align: right;\">\n",
       "      <th></th>\n",
       "      <th>average_household_income_median</th>\n",
       "      <th>inbound_migration</th>\n",
       "    </tr>\n",
       "  </thead>\n",
       "  <tbody>\n",
       "    <tr>\n",
       "      <th>average_household_income_median</th>\n",
       "      <td>1.000000</td>\n",
       "      <td>0.068571</td>\n",
       "    </tr>\n",
       "    <tr>\n",
       "      <th>inbound_migration</th>\n",
       "      <td>0.068571</td>\n",
       "      <td>1.000000</td>\n",
       "    </tr>\n",
       "  </tbody>\n",
       "</table>\n",
       "</div>"
      ],
      "text/plain": [
       "                                 average_household_income_median  \\\n",
       "average_household_income_median                         1.000000   \n",
       "inbound_migration                                       0.068571   \n",
       "\n",
       "                                 inbound_migration  \n",
       "average_household_income_median           0.068571  \n",
       "inbound_migration                         1.000000  "
      ]
     },
     "execution_count": 48,
     "metadata": {},
     "output_type": "execute_result"
    }
   ],
   "source": [
    "df_income_sim = df_income.drop(df_income.iloc[:,:21],axis=1)\n",
    "df_income_sim.corr()"
   ]
  }
 ],
 "metadata": {
  "kernelspec": {
   "display_name": "Python 3.10.7 ('.venv': venv)",
   "language": "python",
   "name": "python3"
  },
  "language_info": {
   "codemirror_mode": {
    "name": "ipython",
    "version": 3
   },
   "file_extension": ".py",
   "mimetype": "text/x-python",
   "name": "python",
   "nbconvert_exporter": "python",
   "pygments_lexer": "ipython3",
   "version": "3.10.7"
  },
  "orig_nbformat": 4,
  "vscode": {
   "interpreter": {
    "hash": "a88af33eb5d757cdea31c666663be359af22d4df1169fecc31847c89bc21c356"
   }
  }
 },
 "nbformat": 4,
 "nbformat_minor": 2
}
